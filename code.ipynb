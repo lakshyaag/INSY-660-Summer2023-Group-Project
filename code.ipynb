{
 "cells": [
  {
   "cell_type": "code",
   "execution_count": 1,
   "metadata": {},
   "outputs": [],
   "source": [
    "import pandas as pd\n",
    "import sqlite3\n"
   ]
  },
  {
   "cell_type": "code",
   "execution_count": 4,
   "metadata": {},
   "outputs": [],
   "source": [
    "class BookChat:\n",
    "    def __init__(self):\n",
    "        self.books = pd.read_csv(\"./data/books.csv\")\n",
    "\n",
    "    def reply(self, msg: str):\n",
    "        print(f\"BookChat: {msg}\")\n",
    "\n",
    "    def input(self):\n",
    "        return input(\"User: \")\n",
    "    \n",
    "    def user_msg(self, msg: str):\n",
    "        print(f\"User: {msg}\")"
   ]
  },
  {
   "cell_type": "code",
   "execution_count": 33,
   "metadata": {},
   "outputs": [],
   "source": [
    "class Books(BookChat):\n",
    "    def __init__(self):\n",
    "        super().__init__()\n",
    "\n",
    "    def get_book_details(self, book_title: str):\n",
    "        return self.books[self.books[\"title\"] == book_title]\n",
    "\n",
    "    def check_availability(self):\n",
    "        self.reply(msg=\"What book are you looking for?\")\n",
    "        user_input = self.input()\n",
    "        self.user_msg(user_input)\n",
    "        self.reply(msg=\"One moment, let me check the inventory.\")\n",
    "\n",
    "        if user_input:\n",
    "            book = self.books[self.books[\"title\"].str.contains(user_input, case=False)]\n",
    "\n",
    "            if book.empty:\n",
    "                self.reply(\n",
    "                    f\"Sorry, it seems that we do not have any book with the title '{user_input}' in stock.\"\n",
    "                )\n",
    "\n",
    "                return []\n",
    "\n",
    "            else:\n",
    "                self.reply(\n",
    "                    f\"Yes, '{book.iloc[0]['title']}' by {book.iloc[0]['author']} is currently in stock.\"\n",
    "                )\n",
    "\n",
    "                return book.iloc[0]\n",
    "        else:\n",
    "            self.reply(\"Sorry, I did not catch that. Could you please start again?\")\n",
    "            self.check_stock()\n",
    "\n",
    "    def check_inventory(self, book):\n",
    "        self.user_msg(\"How many copies are available?\")\n",
    "\n",
    "        self.reply(\"One moment, let me check the inventory.\")\n",
    "\n",
    "        self.reply(f\"We currently have {book['quantityInStock']} copies in stock.\")\n",
    "\n",
    "    def check_price(self, book):\n",
    "        self.user_msg(\"What is the price of the book?\")\n",
    "\n",
    "        self.reply(\"Let me find that information for you...\")\n",
    "\n",
    "        self.reply(\n",
    "            f\"{book['title']} by {book['author']} is priced at ${book['price']}.\"\n",
    "        )\n",
    "\n",
    "    def reserve_copy(self, book):\n",
    "        self.user_msg(\"Can you reserve a copy for me?\")\n",
    "\n",
    "        self.reply(\"Sure! Could you please provide your name?\")\n",
    "\n",
    "        name = self.input()\n",
    "        self.user_msg(name)\n",
    "\n",
    "        self.reply(\"Could you please provide an e-mail or phone number?\")\n",
    "        \n",
    "        contact_info = self.input()\n",
    "        self.user_msg(contact_info)\n",
    "\n",
    "        # Update orders table\n",
    "        \n",
    "        self.reply(\n",
    "            f\"Thank you, I have reserved a copy of {book['title']} for you, {name}. Please visit the store within the next 48 hours to pick it up.\"\n",
    "        )"
   ]
  },
  {
   "cell_type": "code",
   "execution_count": 34,
   "metadata": {},
   "outputs": [
    {
     "name": "stdout",
     "output_type": "stream",
     "text": [
      "BookChat: Hello, I'm BookChat by Argo Bookstore!\n"
     ]
    }
   ],
   "source": [
    "chatbot = BookChat()\n",
    "books = Books()\n",
    "\n",
    "chatbot.reply(\"Hello, I'm BookChat by Argo Bookstore!\")"
   ]
  },
  {
   "cell_type": "markdown",
   "metadata": {},
   "source": [
    "### Scenario 1"
   ]
  },
  {
   "cell_type": "markdown",
   "metadata": {},
   "source": [
    "#### Scene 1.1"
   ]
  },
  {
   "cell_type": "code",
   "execution_count": 21,
   "metadata": {},
   "outputs": [],
   "source": [
    "# User: \"Do you have '1984' by George Orwell in stock?\"\n",
    "# Chatbot: \"Let me check that for you.\"\n",
    "# The chatbot would then use the Pandas API to search the inventory database for the book.\n",
    "# Chatbot: \"Yes, '1984' by George Orwell is currently in stock.\""
   ]
  },
  {
   "cell_type": "code",
   "execution_count": 35,
   "metadata": {},
   "outputs": [
    {
     "name": "stdout",
     "output_type": "stream",
     "text": [
      "BookChat: What book are you looking for?\n",
      "User: monte cristo\n",
      "BookChat: One moment, let me check the inventory.\n",
      "BookChat: Yes, 'The Count of Monte Cristo'' by 'Alexandre Dumas' is currently in stock.\n"
     ]
    }
   ],
   "source": [
    "bookSearched = books.check_availability()"
   ]
  },
  {
   "cell_type": "code",
   "execution_count": 39,
   "metadata": {},
   "outputs": [
    {
     "name": "stdout",
     "output_type": "stream",
     "text": [
      "User: How many copies are available?\n",
      "BookChat: One moment, let me check the inventory.\n",
      "BookChat: We currently have 20 copies in stock.\n",
      "User: What is the price of the book?\n",
      "BookChat: Let me find that information for you...\n",
      "BookChat: The Count of Monte Cristo by Alexandre Dumas is priced at $10.99.\n",
      "User: Can you reserve a copy for me?\n",
      "BookChat: Sure! Could you please provide your name?\n",
      "User: \n",
      "BookChat: Could you please provide an e-mail or phone number?\n",
      "User: \n",
      "BookChat: Thank you, I have reserved a copy of The Count of Monte Cristo for you, . Please visit the store within the next 48 hours to pick it up.\n"
     ]
    }
   ],
   "source": [
    "books.check_inventory(bookSearched)\n",
    "books.check_price(bookSearched)\n",
    "books.reserve_copy(bookSearched)"
   ]
  }
 ],
 "metadata": {
  "kernelspec": {
   "display_name": "Python 3",
   "language": "python",
   "name": "python3"
  },
  "language_info": {
   "codemirror_mode": {
    "name": "ipython",
    "version": 3
   },
   "file_extension": ".py",
   "mimetype": "text/x-python",
   "name": "python",
   "nbconvert_exporter": "python",
   "pygments_lexer": "ipython3",
   "version": "3.10.11"
  },
  "orig_nbformat": 4
 },
 "nbformat": 4,
 "nbformat_minor": 2
}
