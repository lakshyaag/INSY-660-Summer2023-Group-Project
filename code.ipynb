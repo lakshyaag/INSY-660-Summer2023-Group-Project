{
 "cells": [
  {
   "cell_type": "markdown",
   "metadata": {},
   "source": [
    "### Chatbot logic and implementation"
   ]
  },
  {
   "cell_type": "code",
   "execution_count": null,
   "metadata": {},
   "outputs": [],
   "source": [
    "import pandas as pd\n",
    "import sqlite3\n",
    "from datetime import datetime, timedelta\n"
   ]
  },
  {
   "cell_type": "code",
   "execution_count": null,
   "metadata": {},
   "outputs": [],
   "source": [
    "class BookChat:\n",
    "    def __init__(self):\n",
    "        self.books = pd.read_csv(\"./data/books.csv\")\n",
    "        self.orders = pd.read_csv(\"./data/orders.csv\")\n",
    "        self.customers = pd.read_csv('./data/customers.csv')\n",
    "\n",
    "    def reply(self, msg: str):\n",
    "        print(f\"\\nBookChat: {msg}\")\n",
    "\n",
    "    def user_msg(self, msg: str):\n",
    "        print(f\"User: {msg}\\n\")\n",
    "\n",
    "    def input(self, msg: str):\n",
    "        self.reply(msg)\n",
    "        user_input = input(\"\\nUser: \")\n",
    "        self.user_msg(user_input)\n",
    "        return user_input\n"
   ]
  },
  {
   "cell_type": "code",
   "execution_count": null,
   "metadata": {},
   "outputs": [],
   "source": [
    "class Books(BookChat):\n",
    "    def __init__(self):\n",
    "        super().__init__()\n",
    "\n",
    "    def get_book_details(self, book_title: str):\n",
    "        return self.books[self.books[\"title\"] == book_title]\n",
    "\n",
    "    def check_availability(self):\n",
    "        user_input = self.input(msg=\"What book are you looking for?\")\n",
    "        self.reply(msg=\"One moment, let me check the inventory.\")\n",
    "\n",
    "        if user_input:\n",
    "            book = self.books[self.books[\"title\"].str.contains(user_input, case=False)]\n",
    "\n",
    "            if book.empty:\n",
    "                self.reply(\n",
    "                    f\"Sorry, it seems that we do not have any book with the title '{user_input}' in stock.\"\n",
    "                )\n",
    "\n",
    "                return []\n",
    "\n",
    "            else:\n",
    "                self.reply(\n",
    "                    f\"Yes, '{book.iloc[0]['title']}' by {book.iloc[0]['author']} is currently in stock.\"\n",
    "                )\n",
    "\n",
    "                return book.iloc[0]\n",
    "        else:\n",
    "            self.reply(\"Sorry, I did not catch that. Could you please start again?\")\n",
    "            self.check_stock()\n",
    "\n",
    "    def check_inventory(self, book):\n",
    "        self.user_msg(\"How many copies are available?\")\n",
    "\n",
    "        self.reply(\"One moment, let me check the inventory.\")\n",
    "\n",
    "        self.reply(f\"We currently have {book['quantityInStock']} copies in stock.\")\n",
    "\n",
    "    def check_price(self, book):\n",
    "        self.user_msg(\"What is the price of the book?\")\n",
    "\n",
    "        self.reply(\"Let me find that information for you...\")\n",
    "\n",
    "        self.reply(\n",
    "            f\"{book['title']} by {book['author']} is priced at ${book['price']}.\"\n",
    "        )\n",
    "\n",
    "    def reserve_copy(self, book, customer):\n",
    "        self.user_msg(\"Can you reserve a copy for me?\")\n",
    "\n",
    "        # Get the maximum orderID value\n",
    "        max_order_id = self.orders[\"orderID\"].max()\n",
    "\n",
    "        # Increment the maximum orderID value to get the next available ID\n",
    "        next_order_id = max_order_id + 1\n",
    "\n",
    "        # Update orders table with new orderID\n",
    "        new_order = {\n",
    "            \"orderID\": next_order_id,\n",
    "            \"bookID\": book[\"bookID\"],\n",
    "            \"customerID\": customer['customerID'],\n",
    "            \"orderDate\": datetime.now().strftime(\"%Y-%m-%d\"),\n",
    "            \"pickupDate\": (datetime.now() + timedelta(days=2)).strftime(\"%Y-%m-%d\"),\n",
    "            \"status\": \"Reserved\",\n",
    "        }\n",
    "        \n",
    "        self.orders = pd.concat(\n",
    "            [self.orders, pd.DataFrame([new_order])], ignore_index=True\n",
    "        )\n",
    "        self.orders.to_csv(\"./data/orders_DUMP.csv\", index=False)\n",
    "\n",
    "        # Reduce quantityInStock by 1\n",
    "        self.books.loc[self.books[\"bookID\"] == book[\"bookID\"], \"quantityInStock\"] -= 1\n",
    "        self.books.to_csv(\"./data/books_DUMP.csv\", index=False)\n",
    "\n",
    "        self.reply(\n",
    "            f\"Thank you {customer['firstName']}, I have reserved a copy of {book['title']} for you. Please visit the store within the next 48 hours to pick it up.\"\n",
    "        )"
   ]
  },
  {
   "cell_type": "code",
   "execution_count": null,
   "metadata": {},
   "outputs": [],
   "source": [
    "class Orders(BookChat):\n",
    "    def __init__(self):\n",
    "        super().__init__()\n",
    "\n",
    "    def get_orders(self):\n",
    "        return self.orders"
   ]
  },
  {
   "cell_type": "code",
   "execution_count": null,
   "metadata": {},
   "outputs": [],
   "source": [
    "class Customers(BookChat):\n",
    "    def __init__(self):\n",
    "        super().__init__()\n",
    "\n",
    "    def get_customer(self, customerID):\n",
    "        return self.customers[self.customers[\"customerID\"] == customerID].iloc[0]\n",
    "\n",
    "    def add_customer(self):\n",
    "        self.reply(\n",
    "            \"Welcome to Argo! We hope you have a great experience with us. To help us assist you better, please provide a few details about yourself.\"\n",
    "        )\n",
    "        # Get max customer ID\n",
    "        max_id = self.customers[\"customerID\"].max()\n",
    "\n",
    "        # Ask for name, address, phone number, email\n",
    "        firstName = self.input(\"What is your first name?\")\n",
    "        lastName = self.input(\"What is your last name?\")\n",
    "        phone = self.input(\"What is your phone number?\")\n",
    "        email = self.input(\"What is your email address? (Leave blank if none)\")\n",
    "\n",
    "        new_customer = {\n",
    "            \"customerID\": max_id + 1,\n",
    "            \"firstName\": firstName,\n",
    "            \"lastName\": lastName,\n",
    "            \"phone\": phone,\n",
    "            \"email\": email,\n",
    "        }\n",
    "\n",
    "        self.customers = pd.concat(\n",
    "            [self.customers, pd.DataFrame([new_customer])], ignore_index=True\n",
    "        )\n",
    "\n",
    "        self.customers.to_csv(\"./data/customers_DUMP.csv\", index=False)\n",
    "\n",
    "        self.reply(f\"Thank you for shopping with us! Your customer ID is {max_id + 1}.\")\n",
    "        self.reply(\"Please use this customer ID for future purchases and queries.\")\n",
    "        self.reply(f\"What can I help you with, {firstName}?\")\n",
    "\n",
    "        return self.get_customer(max_id + 1)"
   ]
  },
  {
   "cell_type": "code",
   "execution_count": null,
   "metadata": {},
   "outputs": [],
   "source": [
    "chatbot = BookChat()\n",
    "books = Books()\n",
    "orders = Orders()\n",
    "customers = Customers()"
   ]
  },
  {
   "cell_type": "markdown",
   "metadata": {},
   "source": [
    "### Welcome"
   ]
  },
  {
   "cell_type": "code",
   "execution_count": null,
   "metadata": {},
   "outputs": [],
   "source": [
    "chatbot.reply(\"Hello, I'm BookChat by Argo Bookstore!\")\n",
    "\n",
    "customer_type = chatbot.input(\n",
    "    \"Are you a new customer or an existing customer? (New/Existing)\"\n",
    ")\n",
    "\n",
    "if \"existing\" in customer_type:\n",
    "    customerInfo = customers.get_customer(\n",
    "        int(\n",
    "            chatbot.input(\n",
    "                \"Welcome back! Please provide your customer ID so that we can provide you with a personalized experience!\"\n",
    "            )\n",
    "        )\n",
    "    )\n",
    "\n",
    "    chatbot.reply(f\"Welcome back, {customerInfo['firstName']}! What can I help you with?\")\n",
    "\n",
    "else:\n",
    "    customerInfo = customers.add_customer()"
   ]
  },
  {
   "cell_type": "markdown",
   "metadata": {},
   "source": [
    "### Scenario 1: Book availablity and booking"
   ]
  },
  {
   "cell_type": "code",
   "execution_count": null,
   "metadata": {},
   "outputs": [],
   "source": [
    "bookSearched = books.check_availability()"
   ]
  },
  {
   "cell_type": "code",
   "execution_count": null,
   "metadata": {},
   "outputs": [],
   "source": [
    "books.check_inventory(bookSearched)\n",
    "books.check_price(bookSearched)"
   ]
  },
  {
   "cell_type": "code",
   "execution_count": null,
   "metadata": {},
   "outputs": [],
   "source": [
    "books.reserve_copy(bookSearched, customerInfo)"
   ]
  }
 ],
 "metadata": {
  "kernelspec": {
   "display_name": "Python 3",
   "language": "python",
   "name": "python3"
  },
  "language_info": {
   "codemirror_mode": {
    "name": "ipython",
    "version": 3
   },
   "file_extension": ".py",
   "mimetype": "text/x-python",
   "name": "python",
   "nbconvert_exporter": "python",
   "pygments_lexer": "ipython3",
   "version": "3.10.11"
  },
  "orig_nbformat": 4
 },
 "nbformat": 4,
 "nbformat_minor": 2
}
