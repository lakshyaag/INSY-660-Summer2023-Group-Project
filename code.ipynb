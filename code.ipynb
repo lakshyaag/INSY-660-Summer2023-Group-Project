{
 "cells": [
  {
   "cell_type": "markdown",
   "metadata": {},
   "source": [
    "### Chatbot logic and implementation"
   ]
  },
  {
   "cell_type": "code",
   "execution_count": 1,
   "metadata": {},
   "outputs": [],
   "source": [
    "import pandas as pd\n",
    "import sqlite3\n",
    "from datetime import datetime, timedelta\n",
    "from sklearn.feature_extraction.text import TfidfVectorizer\n",
    "from sklearn.metrics.pairwise import cosine_similarity"
   ]
  },
  {
   "cell_type": "code",
   "execution_count": 2,
   "metadata": {},
   "outputs": [],
   "source": [
    "class BookChat:\n",
    "    def __init__(self):\n",
    "        self.books = pd.read_csv(\"./data/books.csv\")\n",
    "        self.orders = pd.read_csv(\"./data/orders.csv\")\n",
    "        self.customers = pd.read_csv('./data/customers.csv')\n",
    "\n",
    "    def reply(self, msg: str):\n",
    "        print(f\"\\nBookChat: {msg}\")\n",
    "\n",
    "    def user_msg(self, msg: str):\n",
    "        print(f\"\\nUser: {msg}\")\n",
    "\n",
    "    def input(self, msg: str):\n",
    "        self.reply(msg)\n",
    "        user_input = input(\"\\nUser: \")\n",
    "        self.user_msg(user_input) # Only keep in VSCode\n",
    "        return user_input\n"
   ]
  },
  {
   "cell_type": "code",
   "execution_count": 3,
   "metadata": {},
   "outputs": [],
   "source": [
    "class Books(BookChat):\n",
    "    def __init__(self):\n",
    "        super().__init__()\n",
    "\n",
    "    def get_book_details(self, book_title: str):\n",
    "        return self.books[self.books[\"title\"] == book_title].iloc[0]\n",
    "\n",
    "    def check_availability(self):\n",
    "        user_input = self.input(msg=\"What book are you looking for?\")\n",
    "        self.reply(msg=\"One moment, let me check the inventory.\")\n",
    "\n",
    "        if user_input:\n",
    "            book = self.books[self.books[\"title\"].str.contains(user_input, case=False)]\n",
    "\n",
    "            if book.empty:\n",
    "                self.reply(\n",
    "                    f\"Sorry, it seems that we do not have any book with the title '{user_input}' in stock.\"\n",
    "                )\n",
    "\n",
    "                return []\n",
    "\n",
    "            else:\n",
    "                self.reply(\n",
    "                    f\"Yes, '{book.iloc[0]['title']}' by {book.iloc[0]['author']} is currently in stock.\"\n",
    "                )\n",
    "\n",
    "                return book.iloc[0]\n",
    "        else:\n",
    "            self.reply(\"Sorry, I did not catch that. Could you please start again?\")\n",
    "            self.check_stock()\n",
    "\n",
    "    def check_inventory(self, book):\n",
    "        self.user_msg(\"How many copies are available?\")\n",
    "\n",
    "        self.reply(\"One moment, let me check the inventory.\")\n",
    "\n",
    "        self.reply(f\"We currently have {book['quantityInStock']} copies in stock.\")\n",
    "\n",
    "    def check_price(self, book):\n",
    "        self.user_msg(\"What is the price of the book?\")\n",
    "\n",
    "        self.reply(\"Let me find that information for you...\")\n",
    "\n",
    "        self.reply(\n",
    "            f\"{book['title']} by {book['author']} is priced at ${book['price']}.\"\n",
    "        )\n",
    "\n",
    "    def generate_cosine_matrix(self):\n",
    "        # Create a Tfibooks.booksVectorizer object and combine all columns\n",
    "        tfidf = TfidfVectorizer(stop_words=\"english\")\n",
    "\n",
    "        columns_to_combine = [\n",
    "            \"title\",\n",
    "            \"author\",\n",
    "            \"genre\",\n",
    "            \"short_description\",\n",
    "            \"publisher\",\n",
    "            \"price\",\n",
    "        ]\n",
    "        self.books[\"combined\"] = (\n",
    "            self.books[columns_to_combine]\n",
    "            .apply(lambda x: \" \".join(x.astype(str)), axis=1)\n",
    "            .str.lower()\n",
    "        )\n",
    "\n",
    "        tfidf_matrix = tfidf.fit_transform(self.books[\"combined\"])\n",
    "\n",
    "        # Compute the cosine similarity matrix\n",
    "        cosine_sim = cosine_similarity(tfidf_matrix, tfidf_matrix)\n",
    "\n",
    "        return cosine_sim\n",
    "\n",
    "    # Function that takes in book feature as input and outputs most similar books\n",
    "    def get_recommendations(self, feature_name, feature_query, cosine_sim):\n",
    "        try:\n",
    "            # Get the index of the book that matches the title\n",
    "            idx = self.books.loc[\n",
    "                self.books[feature_name].str.lower() == feature_query.lower()\n",
    "            ].index[0]\n",
    "\n",
    "            # Get the pairwsie similarity scores of all books with that book\n",
    "            sim_scores = list(enumerate(cosine_sim[idx]))\n",
    "\n",
    "            # Sort the books based on the similarity scores\n",
    "            sim_scores = sorted(sim_scores, key=lambda x: x[1], reverse=True)\n",
    "\n",
    "            # Get the scores of the 5 most similar books\n",
    "            sim_scores = sim_scores[1:6]\n",
    "\n",
    "            # Get the book indices\n",
    "            book_indices = [i[0] for i in sim_scores]\n",
    "\n",
    "            # Return the top 5 most similar books\n",
    "            return self.books[\"title\"].iloc[book_indices]\n",
    "        except IndexError:\n",
    "            # print(f\"Error: {title} not found in our inventory.\")\n",
    "            return False\n",
    "\n",
    "    def ask_for_recommendation(self):\n",
    "        self.user_msg(\"Can you recommend a book for me?\")\n",
    "        rec_choice = self.input(\n",
    "            msg=\"Sure, do you want a recommendation by title or genre? (Title/Genre)\"\n",
    "        ).lower()\n",
    "\n",
    "        if \"title\" in rec_choice:\n",
    "            return \"title\", self.input(\n",
    "                msg=\"What is the title of the book you are looking for?\"\n",
    "            )\n",
    "        elif \"genre\" in rec_choice:\n",
    "            return \"genre\", self.input(msg=\"What genre are you interested in?\")\n",
    "        else:\n",
    "            self.reply(\"Sorry, I did not catch that. Could you please start again?\")\n",
    "            return self.ask_for_recommendation()\n",
    "\n",
    "    def show_recommendations(self, feature_name, feature_query):\n",
    "        cosine_sim = self.generate_cosine_matrix()\n",
    "\n",
    "        recommended_book = self.get_recommendations(\n",
    "            feature_name, feature_query, cosine_sim\n",
    "        )\n",
    "\n",
    "        if recommended_book is not False:\n",
    "            rec_list = \"\\n\".join(\n",
    "                [f\"{i+1}. {book}\" for i, book in enumerate(recommended_book)]\n",
    "            )\n",
    "\n",
    "            self.reply(f\"Here are some books you might like: \\n{rec_list}.\")\n",
    "\n",
    "            return recommended_book\n",
    "        else:\n",
    "            return self.reply(\n",
    "                \"Sorry, I could not find any books that match your preference.\"\n",
    "            )\n",
    "\n",
    "    def query_recommendations(self, recommendation_list):\n",
    "        self.user_msg(\"Sounds interesting! Do you have the 2nd book in stock?\")\n",
    "        self.reply(\"Let me check the inventory...\")\n",
    "\n",
    "        book_details = self.get_book_details(recommendation_list.iloc[1])\n",
    "\n",
    "        self.reply(\n",
    "            f\"We currently have {book_details['quantityInStock']} copies of {book_details['title']} in stock.\"\n",
    "        )\n",
    "\n",
    "        self.user_msg(\"What is the price of that book?\")\n",
    "        self.reply(\"Let me find that information for you...\")\n",
    "\n",
    "        self.reply(f\"{book_details['title']} is priced at ${book_details['price']}.\")\n",
    "\n",
    "        return"
   ]
  },
  {
   "cell_type": "code",
   "execution_count": 4,
   "metadata": {},
   "outputs": [],
   "source": [
    "class Orders(BookChat):\n",
    "    def __init__(self):\n",
    "        super().__init__()\n",
    "\n",
    "    def get_orders(self):\n",
    "        return self.orders\n",
    "\n",
    "    def reserve_copy(self, book, customer):\n",
    "        self.user_msg(\"Can you reserve a copy for me?\")\n",
    "\n",
    "        # Get the maximum orderID value\n",
    "        max_order_id = self.orders[\"orderID\"].max()\n",
    "\n",
    "        # Increment the maximum orderID value to get the next available ID\n",
    "        next_order_id = max_order_id + 1\n",
    "\n",
    "        # Update orders table with new orderID\n",
    "        new_order = {\n",
    "            \"orderID\": next_order_id,\n",
    "            \"bookID\": book[\"bookID\"],\n",
    "            \"customerID\": customer[\"customerID\"],\n",
    "            \"orderDate\": datetime.now().strftime(\"%Y-%m-%d\"),\n",
    "            \"pickupDate\": (datetime.now() + timedelta(days=2)).strftime(\"%Y-%m-%d\"),\n",
    "            \"status\": \"Reserved\",\n",
    "        }\n",
    "\n",
    "        self.orders = pd.concat(\n",
    "            [self.orders, pd.DataFrame([new_order])], ignore_index=True\n",
    "        )\n",
    "        self.orders.to_csv(\"./data/orders_DUMP.csv\", index=False)\n",
    "\n",
    "        # Reduce quantityInStock by 1\n",
    "        self.books.loc[self.books[\"bookID\"] == book[\"bookID\"], \"quantityInStock\"] -= 1\n",
    "        self.books.to_csv(\"./data/books_DUMP.csv\", index=False)\n",
    "\n",
    "        self.reply(\n",
    "            f\"Thank you {customer['firstName']}, I have reserved a copy of {book['title']} for you. Please visit the store within the next 48 hours to pick it up.\"\n",
    "        )"
   ]
  },
  {
   "cell_type": "code",
   "execution_count": 5,
   "metadata": {},
   "outputs": [],
   "source": [
    "class Customers(BookChat):\n",
    "    def __init__(self):\n",
    "        super().__init__()\n",
    "\n",
    "    def get_customer(self, customerID):\n",
    "        try:\n",
    "            return self.customers[self.customers[\"customerID\"] == customerID].iloc[0]\n",
    "        except IndexError:\n",
    "            return None\n",
    "\n",
    "    def add_customer(self):\n",
    "        self.reply(\n",
    "            \"Welcome to Argo! We hope you have a great experience with us. To help us assist you better, please provide a few details about yourself.\"\n",
    "        )\n",
    "        # Get max customer ID\n",
    "        max_id = self.customers[\"customerID\"].max()\n",
    "\n",
    "        # Ask for name, address, phone number, email\n",
    "        firstName = self.input(\"What is your first name?\")\n",
    "        lastName = self.input(\"What is your last name?\")\n",
    "        phone = self.input(\"What is your phone number?\")\n",
    "        email = self.input(\"What is your email address? (Leave blank if none)\")\n",
    "\n",
    "        new_customer = {\n",
    "            \"customerID\": max_id + 1,\n",
    "            \"firstName\": firstName,\n",
    "            \"lastName\": lastName,\n",
    "            \"phone\": phone,\n",
    "            \"email\": email,\n",
    "        }\n",
    "\n",
    "        self.customers = pd.concat(\n",
    "            [self.customers, pd.DataFrame([new_customer])], ignore_index=True\n",
    "        )\n",
    "\n",
    "        self.customers.to_csv(\"./data/customers_DUMP.csv\", index=False)\n",
    "\n",
    "        self.reply(f\"Thank you for shopping with us! Your customer ID is {max_id + 1}.\")\n",
    "        self.reply(\"Please use this customer ID for future purchases and queries.\")\n",
    "        self.reply(f\"What can I help you with, {firstName}?\")\n",
    "\n",
    "        return self.get_customer(max_id + 1)"
   ]
  },
  {
   "cell_type": "code",
   "execution_count": 6,
   "metadata": {},
   "outputs": [],
   "source": [
    "class Store(BookChat):\n",
    "    def __init__(self):\n",
    "        super().__init__\n",
    "\n",
    "    def store_hours(self):\n",
    "        self.user_msg(\"What are your store hours?\")\n",
    "        self.reply(\n",
    "            \"Our store is open from 11 AM to 7 PM from Monday to Friday. On Saturdays and Sundays, we are open from 12 PM to 5 PM.\"\n",
    "        )\n",
    "\n",
    "    def store_location(self):\n",
    "        self.user_msg(\"Where is your store located?\")\n",
    "        self.reply(\n",
    "            \"We are located at 1841-A Saint-Catherine St W, Montreal, QC H3H 1M2.\"\n",
    "        )\n",
    "\n",
    "    def areas_served(self):\n",
    "        self.user_msg(\"What areas do you serve?\")\n",
    "        self.reply(\n",
    "            \"We have only one store in Montreal, but we ship anywhere in the Island of Montreal, as well as Laval and South Store.\"\n",
    "        )\n",
    "\n",
    "    def delivery(self):\n",
    "        self.user_msg(\"Do you deliver books?\")\n",
    "        self.reply(\n",
    "            \"Yes, we do deliver books in the Island of Montreal. Local delivery is a flat rate of $8.50 (plus tax), but it's free for any purchase of $100 or more.\"\n",
    "        )"
   ]
  },
  {
   "cell_type": "code",
   "execution_count": 8,
   "metadata": {},
   "outputs": [],
   "source": [
    "chatbot = BookChat()\n",
    "books = Books()\n",
    "orders = Orders()\n",
    "customers = Customers()\n",
    "store = Store()"
   ]
  },
  {
   "cell_type": "markdown",
   "metadata": {},
   "source": [
    "### Welcome"
   ]
  },
  {
   "cell_type": "code",
   "execution_count": 9,
   "metadata": {},
   "outputs": [
    {
     "name": "stdout",
     "output_type": "stream",
     "text": [
      "\n",
      "BookChat: Hello, I'm BookChat by Argo Bookstore!\n",
      "\n",
      "BookChat: Are you a new customer or an existing customer? (New/Existing)\n",
      "\n",
      "User: \n",
      "\n",
      "BookChat: Sorry, I didn't understand that.\n"
     ]
    }
   ],
   "source": [
    "chatbot.reply(\"Hello, I'm BookChat by Argo Bookstore!\")\n",
    "\n",
    "customer_type = chatbot.input(\n",
    "    \"Are you a new customer or an existing customer? (New/Existing)\"\n",
    ")\n",
    "\n",
    "if \"existing\" in customer_type:\n",
    "    while True:\n",
    "        customerInfo = customers.get_customer(\n",
    "            int(\n",
    "                chatbot.input(\n",
    "                    \"Welcome back! Please provide your customer ID so that we can provide you with a personalized experience!\"\n",
    "                )\n",
    "            )\n",
    "        )\n",
    "\n",
    "        if customerInfo is not None:\n",
    "            chatbot.reply(f\"Welcome back, {customerInfo['firstName']}! What can I help you with?\")\n",
    "            break\n",
    "\n",
    "        else:\n",
    "            chatbot.reply(\"Sorry, I couldn't find your customer ID. Please try again.\")\n",
    "\n",
    "elif \"new\" in customer_type:\n",
    "    customerInfo = customers.add_customer()\n",
    "\n",
    "else:\n",
    "    chatbot.reply(\"Sorry, I didn't understand that.\")"
   ]
  },
  {
   "cell_type": "markdown",
   "metadata": {},
   "source": [
    "### Scenario 1: Book availablity and booking"
   ]
  },
  {
   "cell_type": "code",
   "execution_count": null,
   "metadata": {},
   "outputs": [],
   "source": [
    "bookSearched = books.check_availability()"
   ]
  },
  {
   "cell_type": "code",
   "execution_count": 10,
   "metadata": {},
   "outputs": [
    {
     "name": "stdout",
     "output_type": "stream",
     "text": [
      "\n",
      "User: How many copies are available?\n",
      "\n",
      "BookChat: One moment, let me check the inventory.\n",
      "\n",
      "BookChat: We currently have 5 copies in stock.\n",
      "\n",
      "User: What is the price of the book?\n",
      "\n",
      "BookChat: Let me find that information for you...\n",
      "\n",
      "BookChat: Moby-Dick by Herman Melville is priced at $11.99.\n"
     ]
    }
   ],
   "source": [
    "books.check_inventory(bookSearched)\n",
    "books.check_price(bookSearched)"
   ]
  },
  {
   "cell_type": "code",
   "execution_count": 11,
   "metadata": {},
   "outputs": [
    {
     "name": "stdout",
     "output_type": "stream",
     "text": [
      "\n",
      "User: Can you reserve a copy for me?\n",
      "\n",
      "BookChat: Thank you Emily, I have reserved a copy of Moby-Dick for you. Please visit the store within the next 48 hours to pick it up.\n"
     ]
    }
   ],
   "source": [
    "orders.reserve_copy(bookSearched, customerInfo)"
   ]
  },
  {
   "cell_type": "markdown",
   "metadata": {},
   "source": [
    "### Scenario 2: Book Recommendation"
   ]
  },
  {
   "cell_type": "code",
   "execution_count": 13,
   "metadata": {},
   "outputs": [
    {
     "name": "stdout",
     "output_type": "stream",
     "text": [
      "\n",
      "User: Can you recommend a book for me?\n",
      "\n",
      "BookChat: Sure, do you want a recommendation by title or genre? (Title/Genre)\n",
      "\n",
      "User: title\n",
      "\n",
      "BookChat: What is the title of the book you are looking for?\n",
      "\n",
      "User: the iliad\n"
     ]
    }
   ],
   "source": [
    "# Recommend by title or by genre, depending on user input\n",
    "recommend_question = books.ask_for_recommendation()"
   ]
  },
  {
   "cell_type": "code",
   "execution_count": 14,
   "metadata": {},
   "outputs": [
    {
     "name": "stdout",
     "output_type": "stream",
     "text": [
      "\n",
      "BookChat: Here are some books you might like: \n",
      "1. The Odyssey\n",
      "2. The Divine Comedy\n",
      "3. Pride and Prejudice\n",
      "4. The Count of Monte Cristo\n",
      "5. A Farewell to Arms.\n"
     ]
    }
   ],
   "source": [
    "recommendation_list = books.show_recommendations(*recommend_question)"
   ]
  },
  {
   "cell_type": "code",
   "execution_count": 14,
   "metadata": {},
   "outputs": [
    {
     "name": "stdout",
     "output_type": "stream",
     "text": [
      "\n",
      "User: Sounds interesting! Do you have the 2nd book in stock?\n",
      "\n",
      "BookChat: Let me check the inventory...\n",
      "\n",
      "BookChat: We currently have 130 copies of The Big Two-Hearted River in stock.\n",
      "\n",
      "User: What is the price of that book?\n",
      "\n",
      "BookChat: Let me find that information for you...\n",
      "\n",
      "BookChat: The Big Two-Hearted River is priced at $11.99.\n"
     ]
    }
   ],
   "source": [
    "books.query_recommendations(recommendation_list)"
   ]
  },
  {
   "cell_type": "markdown",
   "metadata": {},
   "source": [
    "### Scenario 3: Store Information Inquiry"
   ]
  },
  {
   "cell_type": "code",
   "execution_count": 11,
   "metadata": {},
   "outputs": [
    {
     "name": "stdout",
     "output_type": "stream",
     "text": [
      "\n",
      "User: Where is your store located?\n",
      "\n",
      "BookChat: We are located at 1841-A Saint-Catherine St W, Montreal, QC H3H 1M2.\n"
     ]
    }
   ],
   "source": [
    "store.store_location()"
   ]
  },
  {
   "cell_type": "code",
   "execution_count": 12,
   "metadata": {},
   "outputs": [
    {
     "name": "stdout",
     "output_type": "stream",
     "text": [
      "\n",
      "User: What are your store hours?\n",
      "\n",
      "BookChat: Our store is open from 11 AM to 7 PM from Monday to Friday. On Saturdays and Sundays, we are open from 12 PM to 5 PM.\n"
     ]
    }
   ],
   "source": [
    "store.store_hours()"
   ]
  },
  {
   "cell_type": "code",
   "execution_count": 13,
   "metadata": {},
   "outputs": [
    {
     "name": "stdout",
     "output_type": "stream",
     "text": [
      "\n",
      "User: What areas do you serve?\n",
      "\n",
      "BookChat: We have only one store in Montreal, but we ship anywhere in the Island of Montreal, as well as Laval and South Store.\n"
     ]
    }
   ],
   "source": [
    "store.areas_served()"
   ]
  },
  {
   "cell_type": "code",
   "execution_count": 14,
   "metadata": {},
   "outputs": [
    {
     "name": "stdout",
     "output_type": "stream",
     "text": [
      "\n",
      "User: Do you deliver books?\n",
      "\n",
      "BookChat: Yes, we do deliver books in the Island of Montreal. Local delivery is a flat rate of $8.50 (plus tax), but it's free for any purchase of $100 or more.\n"
     ]
    }
   ],
   "source": [
    "store.delivery()"
   ]
  },
  {
   "cell_type": "markdown",
   "metadata": {},
   "source": [
    "### Scenario 5: Handling Customer Feedback"
   ]
  },
  {
   "cell_type": "code",
   "execution_count": 40,
   "metadata": {},
   "outputs": [],
   "source": [
    "import pandas as pd\n",
    "from textblob import TextBlob\n",
    "\n",
    "# Dummy order data\n",
    "orders = pd.read_csv(\"./data/orders.csv\")\n",
    "\n",
    "# Create a DataFrame to store feedback\n",
    "feedback_df = pd.DataFrame(columns=[\"OrderID\", \"Feedback\", \"Sentiment\"])"
   ]
  },
  {
   "cell_type": "code",
   "execution_count": 42,
   "metadata": {},
   "outputs": [],
   "source": [
    "def get_order_details(order_id):\n",
    "    order_details = orders[orders[\"orderID\"] == order_id].drop(columns=[\"status\"], axis=1)\n",
    "    return order_details.to_dict(orient=\"records\")[0]\n",
    "\n",
    "def perform_sentiment_analysis():\n",
    "    global feedback_df\n",
    "    sentiment_values = []\n",
    "\n",
    "    for feedback in feedback_df[\"Feedback\"]:\n",
    "        analysis = TextBlob(feedback)\n",
    "        sentiment = \"Positive\" if analysis.sentiment.polarity > 0 else \"Negative\" if analysis.sentiment.polarity < 0 else \"Neutral\"\n",
    "        sentiment_values.append(sentiment)\n",
    "    \n",
    "    feedback_df[\"Sentiment\"] = sentiment_values\n",
    "\n",
    "def process_feedback(order_id, feedback):\n",
    "    global feedback_df\n",
    "    new_feedback = pd.DataFrame({\"OrderID\": [order_id], \"Feedback\": [feedback]})\n",
    "    feedback_df = pd.concat([feedback_df, new_feedback], ignore_index=True)\n",
    "    perform_sentiment_analysis()\n",
    "\n",
    "def main():\n",
    "    print(\"Welcome to the Bookstore Chatbot!\")\n",
    "\n",
    "    while True:\n",
    "        order_id = int(input(\"Please provide your order ID: \"))\n",
    "        order_details = get_order_details(order_id)\n",
    "\n",
    "        if order_details is None:\n",
    "            print(\"I'm sorry, I couldn't find your order. Could you please confirm the order ID again?\")\n",
    "            continue\n",
    "        else:        \n",
    "            print(\"Order Details:\")\n",
    "            for key, value in order_details.items():\n",
    "                print(f\"- {key.capitalize()}: {value}\")\n",
    "\n",
    "        confirmation = input(\"Are these order details correct? (yes/no): \")\n",
    "        if confirmation.lower() != \"yes\":\n",
    "            print(\"I'm sorry for the inconvenience. Could you please provide the order ID again.\")\n",
    "            continue\n",
    "\n",
    "        print(\"How can I assist you today?\",flush=True)\n",
    "        print(\"1. Request a Replacement\",flush=True)\n",
    "        print(\"2. Initiate a Return\",flush=True)\n",
    "        print(\"3. Provide Feedback\",flush=True)\n",
    "\n",
    "        while True:\n",
    "            choice = input(\"Please select an option (1/2/3): \")\n",
    "\n",
    "            if choice == \"1\":\n",
    "                print(\"You have chosen to request a replacement.\",flush=True)\n",
    "                reason = input(\"Please provide the reason for the replacement: \")\n",
    "                shipping_choice = input(\"Would you like us to ship the replacement? (yes/no): \")\n",
    "                if shipping_choice.lower() == \"yes\":\n",
    "                    print(\"Thank you for your input. Your return request has been approved, we'll arrange for a replacement to be shipped and email the details shortly.\")\n",
    "                else:\n",
    "                    print(\"Thank you for your input. Your replacement request has been approved, you will receive a confirmation email soon. Please visit the store to collect the replacement.\")\n",
    "                print(\"A confirmation receipt will be sent to your email after the process.\")\n",
    "                break\n",
    "            elif choice == \"2\":\n",
    "                print(\"You have chosen to initiate a return.\",flush=True)\n",
    "                reason = input(\"Please provide the reason for the return: \")\n",
    "                shipping_choice = input(\"Would you like us to arrange for pickup or visit us? (pickup/visit): \")\n",
    "                if shipping_choice.lower() == \"pickup\":\n",
    "                    print(\"Thank you for your input. Your return request has been approved, we'll arrange for a pickup of the item and email the details shortly.\")\n",
    "                else:\n",
    "                    print(\"Thank you for your input. Your return request has been approved, you will receive a confirmation email soon. Please visit the store to initiate the return.\")\n",
    "                break\n",
    "            elif choice == \"3\":\n",
    "                print(\"You have chosen to provide feedback.\",flush=True)\n",
    "                feedback = input(\"Please share your feedback: \")\n",
    "                process_feedback(order_id, feedback)\n",
    "                print(\"Feedback recorded. Thank you for sharing your thoughts!\")\n",
    "                break\n",
    "            else:\n",
    "                print(\"Invalid choice. Please select a valid option.\")\n",
    "\n",
    "        another_action = input(\"Action completed. Would you like to perform another action? (yes/no): \")\n",
    "        if another_action.lower() != \"yes\":\n",
    "            print(\"Thank you for using our chatbot. Have a great day!\")\n",
    "            break\n",
    "\n",
    "#if __name__ == \"__main__\":\n",
    "#    main()"
   ]
  }
 ],
 "metadata": {
  "kernelspec": {
   "display_name": "Python 3 (ipykernel)",
   "language": "python",
   "name": "python3"
  },
  "language_info": {
   "codemirror_mode": {
    "name": "ipython",
    "version": 3
   },
   "file_extension": ".py",
   "mimetype": "text/x-python",
   "name": "python",
   "nbconvert_exporter": "python",
   "pygments_lexer": "ipython3",
   "version": "3.9.12"
  }
 },
 "nbformat": 4,
 "nbformat_minor": 4
}
