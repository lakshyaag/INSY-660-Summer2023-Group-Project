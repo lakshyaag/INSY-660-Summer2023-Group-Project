{
 "cells": [
  {
   "cell_type": "code",
   "execution_count": null,
   "id": "36db431c",
   "metadata": {},
   "outputs": [],
   "source": [
    "import pandas as pd\n",
    "import datetime as dt\n",
    "df = pd.read_csv(\"./data/orders.csv\")"
   ]
  },
  {
   "cell_type": "code",
   "execution_count": null,
   "id": "25a61652",
   "metadata": {},
   "outputs": [],
   "source": [
    "def get_order(order_id):\n",
    "    order_status = orders[orders[\"orderID\",\"pickupDate\",\"status\"] == order_id]\n",
    "    return order_status.to_dict(orient=\"records\")[0]\n",
    "\n",
    "def get_pickup_date(order_id):\n",
    "    current_pickup_date = orders[orders[\"pickupDate\"] == order_id]\n",
    "\n",
    "print(\"Welcome to the Bookstore Chatbot!\")\n",
    "#provide customer details of pickup date and status regarding their order\n",
    "while True:\n",
    "    order_id = int(input(\"Please provide your order ID: \"))\n",
    "    order_status = get_order(order_id)\n",
    "\n",
    "    if order_status is None:\n",
    "        print(\"I'm sorry, I couldn't find your order. Could you please confirm the order ID again?\")\n",
    "        continue\n",
    "    else:        \n",
    "        print(\"Order Details:\")\n",
    "        for key, value in order_status.items():\n",
    "            print(f\"- {key.capitalize()}: {value}\")\n",
    "            \n",
    "#question 2\n",
    "    print(\"Please select action for your order\",flush=True)\n",
    "    print(\"1. Request change pickup date\",flush=True)\n",
    "    print(\"2. Change pickupdate\",flush=True)\n",
    "    print(\"3. Add a new book\",flush=True)\n",
    "    \n",
    "    while True:\n",
    "        choice = input(\"Please select an option regarding your order (1/2/3): \")\n",
    "        \n",
    "        if choice == \"1\":\n",
    "            print(\"You have requested to change pickup date.\",flush=True)\n",
    "            confirm_request = input(\"Would you like us to process to change your pickup date? (yes/no): \")\n",
    "            if confirm_request.lower() == \"yes\":\n",
    "                print(\"Thank you for your input. Your return request has been approved\")\n",
    "            else:\n",
    "                print(\"Thank you for your input\")\n",
    "            print(\"A confirmation receipt will be sent to your email after the process.\")\n",
    "            break\n",
    "        elif choice == \"2\":\n",
    "            print(\"You have chosen to process with a new pickup date.\",flush=True)\n",
    "            new_pickup_date = dt.date(input(\"Please provide us your new pickup date in YYYY-MM-DD format\"\n",
    "            if new_pickup_date - get_pickup_date(order_id) <= 7:\n",
    "                print(f'''Thank you for your input. Your change request request has been approved, your new pickup date is {new_pickup_date}''')\n",
    "            else:\n",
    "                print(\"We can not change your pickup date if it's exceed 1 week from your current pickup date.\")\n",
    "            break\n",
    "        elif choice == \"3\":\n",
    "            print(\"You have chosen to add a new book.\",flush=True)\n",
    "            bookSearched = books.check_availability()\n",
    "            books.check_inventory(bookSearched)\n",
    "            books.check_price(bookSearched)                            \n",
    "            break\n",
    "        else:\n",
    "            print(\"Error, Please select a valid option.\")\n",
    "    another_action = input(\"Action completed. Would you like to perform another action? (yes/no): \")\n",
    "    if another_action.lower() != \"yes\":\n",
    "        print(\"Thank you for using our chatbot. Have a great day!\")\n",
    "        break\n"
   ]
  }
 ],
 "metadata": {
  "kernelspec": {
   "display_name": "Python 3 (ipykernel)",
   "language": "python",
   "name": "python3"
  },
  "language_info": {
   "codemirror_mode": {
    "name": "ipython",
    "version": 3
   },
   "file_extension": ".py",
   "mimetype": "text/x-python",
   "name": "python",
   "nbconvert_exporter": "python",
   "pygments_lexer": "ipython3",
   "version": "3.11.3"
  }
 },
 "nbformat": 4,
 "nbformat_minor": 5
}
